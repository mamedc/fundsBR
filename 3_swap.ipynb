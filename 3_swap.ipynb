{
 "cells": [
  {
   "cell_type": "markdown",
   "metadata": {
    "collapsed": true
   },
   "source": [
    "### Swap"
   ]
  },
  {
   "cell_type": "markdown",
   "metadata": {},
   "source": [
    " "
   ]
  },
  {
   "cell_type": "markdown",
   "metadata": {},
   "source": [
    " "
   ]
  },
  {
   "cell_type": "code",
   "execution_count": 1,
   "metadata": {
    "collapsed": true
   },
   "outputs": [],
   "source": [
    "# Input\n",
    "date = '2018_09_21'\n",
    "homePath = 'C:/Users/Mamed/Python4DS/'\n",
    "projPath = homePath + 'FundsBR/'\n",
    "strucPath = projPath + 'Structures_' + date + '/'\n",
    "libsPath = projPath + 'Libs/'"
   ]
  },
  {
   "cell_type": "markdown",
   "metadata": {},
   "source": [
    " "
   ]
  },
  {
   "cell_type": "code",
   "execution_count": 2,
   "metadata": {
    "collapsed": true
   },
   "outputs": [],
   "source": [
    "import pandas as pd\n",
    "import numpy as np\n",
    "from collections import Counter\n",
    "import datetime as dt\n",
    "import matplotlib.pyplot as plt\n",
    "import matplotlib.cm as cm\n",
    "from matplotlib import gridspec\n",
    "from IPython.display import clear_output\n",
    "import copy\n",
    "\n",
    "# Load my libraries\n",
    "exec(open(libsPath + 'fundsLib.py').read())"
   ]
  },
  {
   "cell_type": "markdown",
   "metadata": {},
   "source": [
    " "
   ]
  },
  {
   "cell_type": "markdown",
   "metadata": {},
   "source": [
    "#### Government bonds (blk 1)"
   ]
  },
  {
   "cell_type": "code",
   "execution_count": 3,
   "metadata": {},
   "outputs": [
    {
     "name": "stdout",
     "output_type": "stream",
     "text": [
      "      72,809 rows     18 columns\n"
     ]
    }
   ],
   "source": [
    "# Read BLC\n",
    "dfBLC3 = pd.read_pickle(strucPath + 'BLC_blk_3_.pkl')\n",
    "l0 = dfBLC3.shape[0]\n",
    "print('{:>12,.0f} rows {:>6,.0f} columns'.format(dfBLC3.shape[0], dfBLC3.shape[1]))"
   ]
  },
  {
   "cell_type": "code",
   "execution_count": 4,
   "metadata": {
    "collapsed": true
   },
   "outputs": [
    {
     "name": "stdout",
     "output_type": "stream",
     "text": [
      "RangeIndex: 72809 entries, 0 to 72808\n",
      "Data columns (total 18 columns):\n",
      "\n",
      "                    colType  Unique    NaN\n",
      "TP_FUNDO             object       8      0\n",
      "CNPJ_FUNDO           object    1826      0\n",
      "DENOM_SOCIAL         object    1825      0\n",
      "DT_COMPTC            object     164      0\n",
      "TP_APLIC             object       2      0\n",
      "TP_ATIVO             object       1    228\n",
      "EMISSOR_LIGADO      float64       0  72809\n",
      "TP_NEGOC             object       2  48692\n",
      "QT_VENDA_NEGOC      float64       0  72809\n",
      "VL_VENDA_NEGOC      float64       0  72809\n",
      "QT_AQUIS_NEGOC      float64       0  72809\n",
      "VL_AQUIS_NEGOC      float64       0  72809\n",
      "QT_POS_FINAL        float64       0  72809\n",
      "VL_MERC_POS_FINAL   float64   70442      0\n",
      "VL_CUSTO_POS_FINAL  float64   11957  50634\n",
      "DT_CONFID_APLIC      object     428  28234\n",
      "CD_SWAP              object      45    228\n",
      "DS_SWAP              object      45    228\n"
     ]
    }
   ],
   "source": [
    "# Summary\n",
    "dfSummary(dfBLC3)"
   ]
  },
  {
   "cell_type": "code",
   "execution_count": 5,
   "metadata": {},
   "outputs": [
    {
     "name": "stdout",
     "output_type": "stream",
     "text": [
      "Deleted rows: 228                 \n"
     ]
    }
   ],
   "source": [
    "# The confidentiality period (last 3 months) will have null 'CD-SWAPS's,\n",
    "# i.e., for that dates, we will not be able to see the assets.\n",
    "# Therefore, we delete those rows.\n",
    "dfBLC3 = dfBLC3[~dfBLC3['CD_SWAP'].apply(pd.isnull)].reset_index(drop = True)\n",
    "l1 = dfBLC3.shape[0]\n",
    "print('Deleted rows: {:<20,.0f}'.format(l0 - l1))"
   ]
  },
  {
   "cell_type": "code",
   "execution_count": 7,
   "metadata": {},
   "outputs": [],
   "source": [
    "# Two date columns have to be convervet from string to datestamp\n",
    "dfBLC3['DT_COMPTC'] = pd.to_datetime(dfBLC3['DT_COMPTC'])\n",
    "dfBLC3['DT_CONFID_APLIC'] = pd.to_datetime(dfBLC3['DT_CONFID_APLIC'])"
   ]
  },
  {
   "cell_type": "code",
   "execution_count": 8,
   "metadata": {},
   "outputs": [
    {
     "name": "stdout",
     "output_type": "stream",
     "text": [
      "RangeIndex: 72581 entries, 0 to 72580\n",
      "Data columns (total 18 columns):\n",
      "\n",
      "                           colType  Unique    NaN\n",
      "TP_FUNDO                    object       8      0\n",
      "CNPJ_FUNDO                  object    1825      0\n",
      "DENOM_SOCIAL                object    1824      0\n",
      "DT_COMPTC           datetime64[ns]     164      0\n",
      "TP_APLIC                    object       2      0\n",
      "TP_ATIVO                    object       1      0\n",
      "EMISSOR_LIGADO             float64       0  72581\n",
      "TP_NEGOC                    object       2  48464\n",
      "QT_VENDA_NEGOC             float64       0  72581\n",
      "VL_VENDA_NEGOC             float64       0  72581\n",
      "QT_AQUIS_NEGOC             float64       0  72581\n",
      "VL_AQUIS_NEGOC             float64       0  72581\n",
      "QT_POS_FINAL               float64       0  72581\n",
      "VL_MERC_POS_FINAL          float64   70214      0\n",
      "VL_CUSTO_POS_FINAL         float64   11957  50406\n",
      "DT_CONFID_APLIC     datetime64[ns]     424  28234\n",
      "CD_SWAP                     object      45      0\n",
      "DS_SWAP                     object      45      0\n"
     ]
    }
   ],
   "source": [
    "# Summary\n",
    "dfSummary(dfBLC3)"
   ]
  },
  {
   "cell_type": "markdown",
   "metadata": {},
   "source": [
    " "
   ]
  },
  {
   "cell_type": "markdown",
   "metadata": {},
   "source": [
    " "
   ]
  },
  {
   "cell_type": "markdown",
   "metadata": {},
   "source": [
    " "
   ]
  },
  {
   "cell_type": "code",
   "execution_count": 9,
   "metadata": {
    "collapsed": true
   },
   "outputs": [
    {
     "name": "stdout",
     "output_type": "stream",
     "text": [
      "FI          70882\n",
      "FIF          1402\n",
      "FMP-FGTS      168\n",
      "FITVM          77\n",
      "FIIM           19\n",
      "FAPI           15\n",
      "FIP            11\n",
      "FACFIF          7\n",
      "Name: TP_FUNDO, dtype: int64\n",
      "\n",
      "Type:  object\n",
      "Unique:  8\n",
      "NaNs:  0\n"
     ]
    }
   ],
   "source": [
    "# Fund type\n",
    "seriesSummary(dfBLC3, 'TP_FUNDO', 0)"
   ]
  },
  {
   "cell_type": "code",
   "execution_count": 12,
   "metadata": {
    "scrolled": true
   },
   "outputs": [
    {
     "name": "stdout",
     "output_type": "stream",
     "text": [
      "DIFERENCIAL DE SWAP A RECEBER    38279\n",
      "DIFERENCIAL DE SWAP A PAGAR      34302\n",
      "Name: TP_APLIC, dtype: int64\n",
      "\n",
      "Type:  object\n",
      "Unique:  2\n",
      "NaNs:  0\n"
     ]
    }
   ],
   "source": [
    "# Investment type\n",
    "seriesSummary(dfBLC3, 'TP_APLIC', 5)"
   ]
  },
  {
   "cell_type": "code",
   "execution_count": 20,
   "metadata": {
    "scrolled": true
   },
   "outputs": [
    {
     "name": "stdout",
     "output_type": "stream",
     "text": [
      "SDM    18904\n",
      "SDL    18065\n",
      "SDP    13400\n",
      "SDC    11122\n",
      "SCP     3411\n",
      "Name: CD_SWAP, dtype: int64\n",
      "\n",
      "Type:  object\n",
      "Unique:  45\n",
      "NaNs:  0\n"
     ]
    }
   ],
   "source": [
    "seriesSummary(dfBLC3, 'CD_SWAP', 5)"
   ]
  },
  {
   "cell_type": "code",
   "execution_count": 21,
   "metadata": {
    "scrolled": true
   },
   "outputs": [
    {
     "name": "stdout",
     "output_type": "stream",
     "text": [
      "DI1 X IGM    18904\n",
      "DI1 X IAP    18065\n",
      "DI1 X PRE    13400\n",
      "DI1 X DOL    11122\n",
      "DOL X PRE     3411\n",
      "Name: DS_SWAP, dtype: int64\n",
      "\n",
      "Type:  object\n",
      "Unique:  45\n",
      "NaNs:  0\n"
     ]
    }
   ],
   "source": [
    "seriesSummary(dfBLC3, 'DS_SWAP', 5)"
   ]
  },
  {
   "cell_type": "markdown",
   "metadata": {},
   "source": [
    " "
   ]
  },
  {
   "cell_type": "markdown",
   "metadata": {},
   "source": [
    " "
   ]
  },
  {
   "cell_type": "markdown",
   "metadata": {},
   "source": [
    " "
   ]
  },
  {
   "cell_type": "code",
   "execution_count": 26,
   "metadata": {},
   "outputs": [],
   "source": [
    "dfRec = dfBLC3[dfBLC3['TP_APLIC'] == 'DIFERENCIAL DE SWAP A RECEBER']\n",
    "dfPag = dfBLC3[dfBLC3['TP_APLIC'] == 'DIFERENCIAL DE SWAP A PAGAR']\n",
    "#[['TP_APLIC', 'VL_MERC_POS_FINAL', 'CD_SWAP', 'DS_SWAP']]"
   ]
  },
  {
   "cell_type": "code",
   "execution_count": 27,
   "metadata": {
    "scrolled": true
   },
   "outputs": [
    {
     "name": "stdout",
     "output_type": "stream",
     "text": [
      "SDM    9600\n",
      "SDL    8368\n",
      "SDP    7112\n",
      "SDC    6796\n",
      "SCP    2098\n",
      "Name: CD_SWAP, dtype: int64\n",
      "\n",
      "Type:  object\n",
      "Unique:  43\n",
      "NaNs:  0\n"
     ]
    }
   ],
   "source": [
    "seriesSummary(dfRec, 'CD_SWAP', 5)"
   ]
  },
  {
   "cell_type": "code",
   "execution_count": 28,
   "metadata": {
    "scrolled": false
   },
   "outputs": [
    {
     "name": "stdout",
     "output_type": "stream",
     "text": [
      "SDL    9697\n",
      "SDM    9304\n",
      "SDP    6288\n",
      "SDC    4326\n",
      "SCP    1313\n",
      "Name: CD_SWAP, dtype: int64\n",
      "\n",
      "Type:  object\n",
      "Unique:  39\n",
      "NaNs:  0\n"
     ]
    }
   ],
   "source": [
    "seriesSummary(dfPag, 'CD_SWAP', 5)"
   ]
  },
  {
   "cell_type": "code",
   "execution_count": 29,
   "metadata": {
    "scrolled": true
   },
   "outputs": [
    {
     "name": "stdout",
     "output_type": "stream",
     "text": [
      "DI1 X IGM    9600\n",
      "DI1 X IAP    8368\n",
      "DI1 X PRE    7112\n",
      "DI1 X DOL    6796\n",
      "DOL X PRE    2098\n",
      "Name: DS_SWAP, dtype: int64\n",
      "\n",
      "Type:  object\n",
      "Unique:  43\n",
      "NaNs:  0\n"
     ]
    }
   ],
   "source": [
    "seriesSummary(dfRec, 'DS_SWAP', 5)"
   ]
  },
  {
   "cell_type": "code",
   "execution_count": 30,
   "metadata": {
    "scrolled": true
   },
   "outputs": [
    {
     "name": "stdout",
     "output_type": "stream",
     "text": [
      "DI1 X IAP    9697\n",
      "DI1 X IGM    9304\n",
      "DI1 X PRE    6288\n",
      "DI1 X DOL    4326\n",
      "DOL X PRE    1313\n",
      "Name: DS_SWAP, dtype: int64\n",
      "\n",
      "Type:  object\n",
      "Unique:  39\n",
      "NaNs:  0\n"
     ]
    }
   ],
   "source": [
    "seriesSummary(dfPag, 'DS_SWAP', 5)"
   ]
  },
  {
   "cell_type": "code",
   "execution_count": 42,
   "metadata": {
    "scrolled": true
   },
   "outputs": [
    {
     "data": {
      "text/plain": [
       "15.86566962296"
      ]
     },
     "execution_count": 42,
     "metadata": {},
     "output_type": "execute_result"
    }
   ],
   "source": [
    "dfRec[dfRec['DT_COMPTC'] == '2017-12-31']['VL_MERC_POS_FINAL'].sum() / 10**9"
   ]
  },
  {
   "cell_type": "code",
   "execution_count": 44,
   "metadata": {
    "scrolled": true
   },
   "outputs": [
    {
     "data": {
      "text/plain": [
       "2.866280618480001"
      ]
     },
     "execution_count": 44,
     "metadata": {},
     "output_type": "execute_result"
    }
   ],
   "source": [
    "dfPag[dfPag['DT_COMPTC'] == '2017-12-31']['VL_MERC_POS_FINAL'].sum() / 10**9"
   ]
  }
 ],
 "metadata": {
  "kernelspec": {
   "display_name": "Python 3",
   "language": "python",
   "name": "python3"
  },
  "language_info": {
   "codemirror_mode": {
    "name": "ipython",
    "version": 3
   },
   "file_extension": ".py",
   "mimetype": "text/x-python",
   "name": "python",
   "nbconvert_exporter": "python",
   "pygments_lexer": "ipython3",
   "version": "3.6.3"
  }
 },
 "nbformat": 4,
 "nbformat_minor": 2
}
