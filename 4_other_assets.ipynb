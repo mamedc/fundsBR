{
 "cells": [
  {
   "cell_type": "markdown",
   "metadata": {
    "collapsed": true
   },
   "source": [
    "### Other encoded assets"
   ]
  },
  {
   "cell_type": "markdown",
   "metadata": {},
   "source": [
    " "
   ]
  },
  {
   "cell_type": "markdown",
   "metadata": {},
   "source": [
    " "
   ]
  },
  {
   "cell_type": "code",
   "execution_count": 2,
   "metadata": {
    "collapsed": true
   },
   "outputs": [],
   "source": [
    "# Input\n",
    "date = '2018_09_21'\n",
    "homePath = 'C:/Users/Mamed/Python4DS/'\n",
    "projPath = homePath + 'FundsBR/'\n",
    "strucPath = projPath + 'Structures_' + date + '/'\n",
    "libsPath = projPath + 'Libs/'"
   ]
  },
  {
   "cell_type": "markdown",
   "metadata": {},
   "source": [
    " "
   ]
  },
  {
   "cell_type": "code",
   "execution_count": 3,
   "metadata": {},
   "outputs": [],
   "source": [
    "import pandas as pd\n",
    "import numpy as np\n",
    "from collections import Counter\n",
    "import datetime as dt\n",
    "import matplotlib.pyplot as plt\n",
    "import matplotlib.cm as cm\n",
    "from matplotlib import gridspec\n",
    "from IPython.display import clear_output\n",
    "import copy\n",
    "\n",
    "# Load my libraries\n",
    "exec(open(libsPath + 'fundsLib.py').read())"
   ]
  },
  {
   "cell_type": "markdown",
   "metadata": {},
   "source": [
    " "
   ]
  },
  {
   "cell_type": "markdown",
   "metadata": {},
   "source": [
    "#### Other encoded assets (blk 4)"
   ]
  },
  {
   "cell_type": "code",
   "execution_count": 4,
   "metadata": {},
   "outputs": [
    {
     "name": "stdout",
     "output_type": "stream",
     "text": [
      "   7,723,080 rows     21 columns\n"
     ]
    }
   ],
   "source": [
    "# Read BLC\n",
    "dfBLC = pd.read_pickle(strucPath + 'BLC_blk_4_.pkl')\n",
    "l0 = dfBLC.shape[0]\n",
    "print('{:>12,.0f} rows {:>6,.0f} columns'.format(dfBLC.shape[0], dfBLC.shape[1]))"
   ]
  },
  {
   "cell_type": "code",
   "execution_count": 5,
   "metadata": {},
   "outputs": [
    {
     "name": "stdout",
     "output_type": "stream",
     "text": [
      "RangeIndex: 7723080 entries, 0 to 7723079\n",
      "Data columns (total 21 columns):\n",
      "\n",
      "                    colType   Unique      NaN\n",
      "TP_FUNDO             object       13        0\n",
      "CNPJ_FUNDO           object    10771        0\n",
      "DENOM_SOCIAL         object    10781        0\n",
      "DT_COMPTC            object      164        0\n",
      "TP_APLIC             object       19        0\n",
      "TP_ATIVO             object       35    86236\n",
      "EMISSOR_LIGADO       object        2  1770859\n",
      "TP_NEGOC             object        2        2\n",
      "QT_VENDA_NEGOC      float64   164144  2507686\n",
      "VL_VENDA_NEGOC      float64  1782965  2451471\n",
      "QT_AQUIS_NEGOC      float64   166026  2506367\n",
      "VL_AQUIS_NEGOC      float64  1913017  2450148\n",
      "QT_POS_FINAL        float64   530453    86236\n",
      "VL_MERC_POS_FINAL   float64  3768215        0\n",
      "VL_CUSTO_POS_FINAL  float64   604083  6747240\n",
      "DT_CONFID_APLIC      object      753  3449868\n",
      "CD_ATIVO             object    23613    86236\n",
      "DS_ATIVO             object     2146    86236\n",
      "CD_ISIN              object    26424   376621\n",
      "DT_INI_VIGENCIA      object     2802    86236\n",
      "DT_FIM_VIGENCIA      object     1246  4524217\n"
     ]
    }
   ],
   "source": [
    "# Summary\n",
    "dfSummary(dfBLC)"
   ]
  },
  {
   "cell_type": "code",
   "execution_count": 6,
   "metadata": {},
   "outputs": [
    {
     "name": "stdout",
     "output_type": "stream",
     "text": [
      "Deleted rows: 86,236              \n"
     ]
    }
   ],
   "source": [
    "# The confidentiality period (last 3 months) will have null 'CD_ATIVO',\n",
    "# i.e., for that dates, we will not be able to see the assets.\n",
    "# Therefore, we delete those rows.\n",
    "dfBLC = dfBLC[~dfBLC['CD_ATIVO'].apply(pd.isnull)].reset_index(drop = True)\n",
    "l1 = dfBLC.shape[0]\n",
    "print('Deleted rows: {:<20,.0f}'.format(l0 - l1))"
   ]
  },
  {
   "cell_type": "code",
   "execution_count": 7,
   "metadata": {
    "collapsed": true
   },
   "outputs": [],
   "source": [
    "# Four date columns have to be convervet from string to datestamp\n",
    "dfBLC['DT_COMPTC'] = pd.to_datetime(dfBLC['DT_COMPTC'])\n",
    "dfBLC['DT_CONFID_APLIC'] = pd.to_datetime(dfBLC['DT_CONFID_APLIC'])\n",
    "dfBLC['DT_INI_VIGENCIA'] = pd.to_datetime(dfBLC['DT_INI_VIGENCIA'])\n",
    "\n",
    "# No that differently of other assets blocks, in this case we have stocks.\n",
    "# For them, the fild 'DT_FIM_VIGENCIA' sometimes is filled with the value\n",
    "# '9999-12-31'. For that reason, we need to include the \"errors = 'coerce'\"\n",
    "# option in the dates convertion function. In that case, the '9999' dates\n",
    "# will be converted as 'NaT', otherwise it would raise an error.\n",
    "dfBLC['DT_FIM_VIGENCIA'] = pd.to_datetime(dfBLC['DT_FIM_VIGENCIA'], \n",
    "    errors = 'coerce')"
   ]
  },
  {
   "cell_type": "code",
   "execution_count": 8,
   "metadata": {},
   "outputs": [
    {
     "name": "stdout",
     "output_type": "stream",
     "text": [
      "RangeIndex: 7636844 entries, 0 to 7636843\n",
      "Data columns (total 21 columns):\n",
      "\n",
      "                           colType   Unique      NaN\n",
      "TP_FUNDO                    object       13        0\n",
      "CNPJ_FUNDO                  object    10734        0\n",
      "DENOM_SOCIAL                object    10744        0\n",
      "DT_COMPTC           datetime64[ns]      164        0\n",
      "TP_APLIC                    object       19        0\n",
      "TP_ATIVO                    object       35        0\n",
      "EMISSOR_LIGADO              object        2  1767657\n",
      "TP_NEGOC                    object        2        2\n",
      "QT_VENDA_NEGOC             float64   164144  2421450\n",
      "VL_VENDA_NEGOC             float64  1766409  2421450\n",
      "QT_AQUIS_NEGOC             float64   166026  2420131\n",
      "VL_AQUIS_NEGOC             float64  1894454  2420131\n",
      "QT_POS_FINAL               float64   530453        0\n",
      "VL_MERC_POS_FINAL          float64  3719084        0\n",
      "VL_CUSTO_POS_FINAL         float64   604080  6661012\n",
      "DT_CONFID_APLIC     datetime64[ns]      747  3449868\n",
      "CD_ATIVO                    object    23613        0\n",
      "DS_ATIVO                    object     2146        0\n",
      "CD_ISIN                     object    26424   290385\n",
      "DT_INI_VIGENCIA     datetime64[ns]     2802        0\n",
      "DT_FIM_VIGENCIA     datetime64[ns]     1245  4969359\n"
     ]
    }
   ],
   "source": [
    "# Summary\n",
    "dfSummary(dfBLC)"
   ]
  },
  {
   "cell_type": "markdown",
   "metadata": {},
   "source": [
    " "
   ]
  },
  {
   "cell_type": "markdown",
   "metadata": {},
   "source": [
    " "
   ]
  },
  {
   "cell_type": "code",
   "execution_count": 9,
   "metadata": {
    "scrolled": false
   },
   "outputs": [
    {
     "name": "stdout",
     "output_type": "stream",
     "text": [
      "Ações                                                 5185288\n",
      "Obrigações por ações e outros TVM recebidos em emp     586278\n",
      "Mercado Futuro - Posições vendidas                     454158\n",
      "Ações e outros TVM cedidos em empréstimo               409230\n",
      "Mercado Futuro - Posições compradas                    337659\n",
      "Opções - Posições titulares                            153226\n",
      "Debêntures                                             129151\n",
      "Certificado ou recibo de depósito de valores mobil     127255\n",
      "Opções - Posições lançadas                             119271\n",
      "Vendas a termo a receber                                58969\n",
      "Debêntures simples                                      36889\n",
      "Brazilian Depository Receipt - BDR                      11755\n",
      "Outros valores mobiliários registrados na CVM obje      10533\n",
      "Compras a termo a receber                                9282\n",
      "Outras aplicações                                        6152\n",
      "Investimento no Exterior                                 1100\n",
      "Debêntures conversíveis                                   615\n",
      "Tít. e créd. securitizados pelo governo federal            25\n",
      "AÇÕES RECEBIDAS EM BONIFICAÇÃO                              8\n",
      "Name: TP_APLIC, dtype: int64\n",
      "\n",
      "Type:  object\n",
      "Unique:  19\n",
      "NaNs:  0\n"
     ]
    }
   ],
   "source": [
    "seriesSummary(dfBLC, 'TP_APLIC', 0, 50, 'head')"
   ]
  },
  {
   "cell_type": "code",
   "execution_count": 10,
   "metadata": {
    "scrolled": false
   },
   "outputs": [
    {
     "name": "stdout",
     "output_type": "stream",
     "text": [
      "Ação ordinária                            3579017\n",
      "Ação preferencial                         2645515\n",
      "Futuro de DI1:DI de 1 dia                  356602\n",
      "Contrato Futuro                            343483\n",
      "Opção de compra                            166201\n",
      "Debênture simples                          165801\n",
      "Certificado de depósito de ações           146068\n",
      "Opção de venda                             106296\n",
      "Futuro de DOL:Dólar comercial               37517\n",
      "Futuro de IND:Ibovespa                      23674\n",
      "Futuro de DDI:Cupom cambial                 21936\n",
      "Recibo de subscrição                        16109\n",
      "BDR nível III                                8626\n",
      "BDR nível I                                  3129\n",
      "Bônus de subscrição                          3018\n",
      "Futuro de WIN:Ibovespa futuro                2134\n",
      "Futuro de DAP:Cupom de DI x IPCA             2081\n",
      "Brazilian Repository Receipt                 2002\n",
      "Futuro de BGI:Boi gordo                      1504\n",
      "Título da Dívida Externa                     1100\n",
      "Futuro de EUR:Euro                            883\n",
      "Debênture conversível                         879\n",
      "Termo                                         720\n",
      "Futuro de T10:US T-Note 10 anos               561\n",
      "Futuro de ICF:Café arábica                    503\n",
      "Futuro de B40:Global 2040                     379\n",
      "Certificado de recebíveis imobiliários        364\n",
      "Futuro de WDL:Dólar comercial futuro          212\n",
      "Outros                                        182\n",
      "Futuro de BRI:IBrX-50                         153\n",
      "Futuro de CNI:Milho                            74\n",
      "Futuro de SOJ:Soja                             53\n",
      "Futuro de B34:Global 2034                      41\n",
      "Futuro de IAP:IPCA                             17\n",
      "Futuro de B19:Global 2019                      10\n",
      "Name: TP_ATIVO, dtype: int64\n",
      "\n",
      "Type:  object\n",
      "Unique:  35\n",
      "NaNs:  0\n"
     ]
    }
   ],
   "source": [
    "seriesSummary(dfBLC, 'TP_ATIVO', 0, 0, 'head')"
   ]
  },
  {
   "cell_type": "markdown",
   "metadata": {},
   "source": [
    " "
   ]
  },
  {
   "cell_type": "markdown",
   "metadata": {},
   "source": [
    " "
   ]
  },
  {
   "cell_type": "markdown",
   "metadata": {},
   "source": [
    " "
   ]
  },
  {
   "cell_type": "markdown",
   "metadata": {},
   "source": [
    " "
   ]
  },
  {
   "cell_type": "markdown",
   "metadata": {},
   "source": [
    " "
   ]
  },
  {
   "cell_type": "markdown",
   "metadata": {},
   "source": [
    "### Stocks"
   ]
  },
  {
   "cell_type": "code",
   "execution_count": 13,
   "metadata": {},
   "outputs": [
    {
     "name": "stdout",
     "output_type": "stream",
     "text": [
      "   5,185,288 rows     21 columns\n"
     ]
    }
   ],
   "source": [
    "# We will look separately to Stocks\n",
    "dfStk = dfBLC[dfBLC['TP_APLIC'] == 'Ações'].reset_index(drop = True)\n",
    "print('{:>12,.0f} rows {:>6,.0f} columns'.format(dfStk.shape[0], dfStk.shape[1]))"
   ]
  },
  {
   "cell_type": "code",
   "execution_count": 12,
   "metadata": {
    "scrolled": false
   },
   "outputs": [
    {
     "name": "stdout",
     "output_type": "stream",
     "text": [
      "RangeIndex: 5185288 entries, 0 to 5185287\n",
      "Data columns (total 21 columns):\n",
      "\n",
      "                           colType   Unique      NaN\n",
      "TP_FUNDO                    object       12        0\n",
      "CNPJ_FUNDO                  object     6577        0\n",
      "DENOM_SOCIAL                object     6584        0\n",
      "DT_COMPTC           datetime64[ns]      164        0\n",
      "TP_APLIC                    object        1        0\n",
      "TP_ATIVO                    object        2        0\n",
      "EMISSOR_LIGADO              object        2   738118\n",
      "TP_NEGOC                    object        2        0\n",
      "QT_VENDA_NEGOC             float64   162080   514218\n",
      "VL_VENDA_NEGOC             float64  1679252   514218\n",
      "QT_AQUIS_NEGOC             float64   164278   514186\n",
      "VL_AQUIS_NEGOC             float64  1807293   514186\n",
      "QT_POS_FINAL               float64   465832        0\n",
      "VL_MERC_POS_FINAL          float64  2573141        0\n",
      "VL_CUSTO_POS_FINAL         float64   470148  4447170\n",
      "DT_CONFID_APLIC     datetime64[ns]      705  2380473\n",
      "CD_ATIVO                    object      900        0\n",
      "DS_ATIVO                    object     1048        0\n",
      "CD_ISIN                     object      864        0\n",
      "DT_INI_VIGENCIA     datetime64[ns]      636        0\n",
      "DT_FIM_VIGENCIA     datetime64[ns]      213  4021977\n"
     ]
    }
   ],
   "source": [
    "dfSummary(dfStk)"
   ]
  },
  {
   "cell_type": "markdown",
   "metadata": {},
   "source": [
    "#### Stocks' lifespan, i.e., time between first and last apperance in the database"
   ]
  },
  {
   "cell_type": "code",
   "execution_count": 233,
   "metadata": {},
   "outputs": [],
   "source": [
    "# Asset lifeSpan\n",
    "d = dfStk.groupby(['CD_ATIVO'])['DT_COMPTC']\n",
    "dfLS = pd.DataFrame(data = [d.min(), d.max()], index = ['dtMin', 'dtMax']).T\n",
    "dfLS['lifeSpan'] = dfLS['dtMax'] - dfLS['dtMin']\n",
    "dfLS['lifeSpan'] = dfLS['lifeSpan'].apply(lambda x: x.days)"
   ]
  },
  {
   "cell_type": "code",
   "execution_count": 240,
   "metadata": {},
   "outputs": [
    {
     "data": {
      "image/png": "[encoded data removed]",
      "text/plain": [
       "<matplotlib.figure.Figure at 0x24bd4fd1940>"
      ]
     },
     "metadata": {},
     "output_type": "display_data"
    }
   ],
   "source": [
    "fig = plt.figure(figsize = (6, 4))\n",
    "ax = fig.add_subplot(111)\n",
    "hist, bins = np.histogram(dfLS['lifeSpan'], bins = 100)\n",
    "plt.bar(bins[:-1], hist.astype(np.float32) / hist.sum(), \n",
    "        width = (bins[1] - bins[0]))\n",
    "plt.xlabel('Lifespan (days)')\n",
    "plt.show()"
   ]
  },
  {
   "cell_type": "code",
   "execution_count": 247,
   "metadata": {
    "scrolled": false
   },
   "outputs": [
    {
     "data": {
      "text/plain": [
       "count     900.000000\n",
       "mean     2462.397778\n",
       "std      1784.136876\n",
       "min         0.000000\n",
       "25%       730.000000\n",
       "50%      2192.000000\n",
       "75%      4209.000000\n",
       "max      4960.000000\n",
       "Name: lifeSpan, dtype: float64"
      ]
     },
     "execution_count": 247,
     "metadata": {},
     "output_type": "execute_result"
    }
   ],
   "source": [
    "# 25% of the stocks (0.25 * 900 = 225) lived untill 730 days\n",
    "# Note we had zero lifespan! I.e., one day only...\n",
    "dfLS['lifeSpan'].describe()"
   ]
  },
  {
   "cell_type": "markdown",
   "metadata": {},
   "source": [
    "#### A liquidity measure: How many fund had positions in each stock at least for one day?"
   ]
  },
  {
   "cell_type": "code",
   "execution_count": 244,
   "metadata": {},
   "outputs": [],
   "source": [
    "liq = dfStk.groupby(['CD_ATIVO', 'CNPJ_FUNDO'])['CNPJ_FUNDO'].count()\n",
    "liq = liq.unstack(level = 1)\n",
    "liq = ~liq.applymap(np.isnan)\n",
    "liq = liq.sum(axis = 1)\n",
    "liq.name = 'liq'"
   ]
  },
  {
   "cell_type": "code",
   "execution_count": 245,
   "metadata": {
    "scrolled": true
   },
   "outputs": [
    {
     "data": {
      "image/png": "[encoded data removed]",
      "text/plain": [
       "<matplotlib.figure.Figure at 0x24bd55cfb00>"
      ]
     },
     "metadata": {},
     "output_type": "display_data"
    }
   ],
   "source": [
    "fig = plt.figure(figsize = (6, 4))\n",
    "ax = fig.add_subplot(111)\n",
    "hist, bins = np.histogram(liq, bins = 100)\n",
    "plt.bar(bins[:-1], hist.astype(np.float32) / hist.sum(), \n",
    "        width = (bins[1] - bins[0]))\n",
    "plt.xlabel('Number of funds')\n",
    "plt.show()"
   ]
  },
  {
   "cell_type": "code",
   "execution_count": 248,
   "metadata": {},
   "outputs": [
    {
     "data": {
      "text/plain": [
       "count     900.000000\n",
       "mean      355.462222\n",
       "std       677.177940\n",
       "min         1.000000\n",
       "25%         3.000000\n",
       "50%        28.000000\n",
       "75%       367.500000\n",
       "max      4659.000000\n",
       "Name: liq, dtype: float64"
      ]
     },
     "execution_count": 248,
     "metadata": {},
     "output_type": "execute_result"
    }
   ],
   "source": [
    "# 25% of the stocks (0.25 * 900 = 225) have been traded in the maximum\n",
    "# number of 3 funds. Is it the case of adventure capital? We have to \n",
    "# investigate.\n",
    "# Note we had stocks traded only by one fund.\n",
    "liq.describe()"
   ]
  },
  {
   "cell_type": "markdown",
   "metadata": {},
   "source": [
    "#### How is the joint distribution of lifespan and liquidity?\n",
    "Concentration in lifespans < 1500 and > 3500, for tradings number < 400."
   ]
  },
  {
   "cell_type": "code",
   "execution_count": 250,
   "metadata": {},
   "outputs": [],
   "source": [
    "df2 = pd.concat([dfLS['lifeSpan'], liq], axis=1)"
   ]
  },
  {
   "cell_type": "code",
   "execution_count": 251,
   "metadata": {},
   "outputs": [
    {
     "data": {
      "image/png": "[encoded data removed]",
      "text/plain": [
       "<matplotlib.figure.Figure at 0x24bd531a940>"
      ]
     },
     "metadata": {},
     "output_type": "display_data"
    }
   ],
   "source": [
    "# Atention: the axes units are wrong\n",
    "from scipy.stats import kde\n",
    "fig = plt.figure(figsize = (8, 6))\n",
    "ax = fig.add_subplot(111)\n",
    "\n",
    "x = df2['lifeSpan']; y = df2['liq']\n",
    "\n",
    "nbins = 200\n",
    "k = kde.gaussian_kde([x,y])\n",
    "xi, yi = np.mgrid[x.min():x.max():nbins*1j, y.min():y.max():nbins*1j]\n",
    "zi = k(np.vstack([xi.flatten(), yi.flatten()]))\n",
    "im = plt.pcolormesh(xi, yi, zi.reshape(xi.shape), cmap=plt.cm.BuGn_r)\n",
    "ax.contour(xi, yi, zi.reshape(xi.shape), colors = 'y', alpha = 0.7, \n",
    "    linewidths = 1)\n",
    "fig.colorbar(im)\n",
    "\n",
    "ax.set_ylim((0, 1500))\n",
    "plt.xlabel('Lifespan')\n",
    "plt.ylabel('Number funds')\n",
    "    \n",
    "plt.show()"
   ]
  },
  {
   "cell_type": "code",
   "execution_count": null,
   "metadata": {
    "collapsed": true
   },
   "outputs": [],
   "source": []
  },
  {
   "cell_type": "code",
   "execution_count": null,
   "metadata": {
    "collapsed": true
   },
   "outputs": [],
   "source": []
  },
  {
   "cell_type": "code",
   "execution_count": null,
   "metadata": {
    "collapsed": true
   },
   "outputs": [],
   "source": []
  },
  {
   "cell_type": "code",
   "execution_count": null,
   "metadata": {
    "scrolled": false
   },
   "outputs": [],
   "source": [
    "seriesSummary(dfStk, 'QT_POS_FINAL', 10, 0)"
   ]
  },
  {
   "cell_type": "code",
   "execution_count": null,
   "metadata": {},
   "outputs": [],
   "source": [
    "seriesSummary(dfStk, 'CD_ATIVO', 10, 0, 'tail')"
   ]
  },
  {
   "cell_type": "code",
   "execution_count": null,
   "metadata": {
    "scrolled": false
   },
   "outputs": [],
   "source": [
    "seriesSummary(dfStk, 'DS_ATIVO', 10, 0, 'tail')"
   ]
  },
  {
   "cell_type": "code",
   "execution_count": null,
   "metadata": {
    "scrolled": true
   },
   "outputs": [],
   "source": [
    "seriesSummary(dfStk, 'CD_ISIN', 10, 0, 'head')"
   ]
  },
  {
   "cell_type": "markdown",
   "metadata": {},
   "source": [
    " "
   ]
  },
  {
   "cell_type": "markdown",
   "metadata": {},
   "source": [
    " "
   ]
  },
  {
   "cell_type": "code",
   "execution_count": null,
   "metadata": {
    "collapsed": true
   },
   "outputs": [],
   "source": [
    "# Deleting stocks which code has a frequency less than 10 in the hole data base\n",
    "codeCount = dfStk['CD_ATIVO'].value_counts()"
   ]
  },
  {
   "cell_type": "code",
   "execution_count": null,
   "metadata": {},
   "outputs": [],
   "source": [
    "len(codeCount)"
   ]
  },
  {
   "cell_type": "code",
   "execution_count": null,
   "metadata": {
    "scrolled": false
   },
   "outputs": [],
   "source": [
    "codeCount.describe()"
   ]
  },
  {
   "cell_type": "code",
   "execution_count": null,
   "metadata": {},
   "outputs": [],
   "source": []
  },
  {
   "cell_type": "code",
   "execution_count": null,
   "metadata": {},
   "outputs": [],
   "source": [
    "perc = 0.5\n",
    "stkNames = codeCount.head(int(perc * len(codeCount))).index"
   ]
  },
  {
   "cell_type": "code",
   "execution_count": null,
   "metadata": {
    "collapsed": true
   },
   "outputs": [],
   "source": [
    "fig = plt.figure(figsize = (10, 6))\n",
    "ax = fig.add_subplot(111)\n",
    "plt.hist(codeCount, bins = 2500)\n",
    "ax.set_xlim((0, 200))\n",
    "plt.show()"
   ]
  },
  {
   "cell_type": "code",
   "execution_count": null,
   "metadata": {},
   "outputs": [],
   "source": [
    "codeCount = codeCount[codeCount <= 10]"
   ]
  },
  {
   "cell_type": "code",
   "execution_count": null,
   "metadata": {
    "collapsed": true
   },
   "outputs": [],
   "source": [
    "codeCount"
   ]
  },
  {
   "cell_type": "code",
   "execution_count": null,
   "metadata": {
    "collapsed": true
   },
   "outputs": [],
   "source": []
  },
  {
   "cell_type": "code",
   "execution_count": null,
   "metadata": {
    "collapsed": true
   },
   "outputs": [],
   "source": []
  },
  {
   "cell_type": "code",
   "execution_count": null,
   "metadata": {
    "collapsed": true
   },
   "outputs": [],
   "source": []
  },
  {
   "cell_type": "markdown",
   "metadata": {},
   "source": [
    "### Computing stocks unitary prices"
   ]
  },
  {
   "cell_type": "code",
   "execution_count": null,
   "metadata": {
    "collapsed": true
   },
   "outputs": [],
   "source": [
    "# Delete rows where 'QT_POS_FINAL' = 0\n",
    "dfStk = dfStk[dfStk['QT_POS_FINAL'] != 0].reset_index(drop = True)"
   ]
  },
  {
   "cell_type": "code",
   "execution_count": null,
   "metadata": {
    "collapsed": true
   },
   "outputs": [],
   "source": [
    "# Compute unitary price column\n",
    "dfStk['PU'] = dfStk['VL_MERC_POS_FINAL'] / dfStk['QT_POS_FINAL']"
   ]
  },
  {
   "cell_type": "code",
   "execution_count": null,
   "metadata": {},
   "outputs": [],
   "source": [
    "# Compute the median for each stock CD_ATIVO and observation date\n",
    "\n",
    "mode = lambda x: x.mode()# if len(x) > 2 else np.array(x)\n",
    "#unitPrc = dfStk.groupby(['CD_ATIVO', 'DT_COMPTC'])['PU'].agg(mode)\n",
    "unitPrc = dfStk.groupby(['CD_ATIVO', 'DT_COMPTC'])['PU'].mean()"
   ]
  },
  {
   "cell_type": "code",
   "execution_count": null,
   "metadata": {
    "collapsed": true
   },
   "outputs": [],
   "source": []
  },
  {
   "cell_type": "code",
   "execution_count": null,
   "metadata": {
    "collapsed": true
   },
   "outputs": [],
   "source": [
    "unitPrc.head(20)"
   ]
  },
  {
   "cell_type": "code",
   "execution_count": null,
   "metadata": {
    "collapsed": true
   },
   "outputs": [],
   "source": [
    "dfPrices = unitPrc.unstack(level = 0)"
   ]
  },
  {
   "cell_type": "code",
   "execution_count": null,
   "metadata": {
    "collapsed": true
   },
   "outputs": [],
   "source": [
    "dfPrices.head(5)"
   ]
  },
  {
   "cell_type": "code",
   "execution_count": null,
   "metadata": {
    "collapsed": true
   },
   "outputs": [],
   "source": [
    "dfPrices.iloc[:, 5]"
   ]
  },
  {
   "cell_type": "code",
   "execution_count": null,
   "metadata": {
    "collapsed": true
   },
   "outputs": [],
   "source": [
    "seriesSummary(dfPrices, 'ABYA3', 10, 0)"
   ]
  },
  {
   "cell_type": "code",
   "execution_count": null,
   "metadata": {
    "collapsed": true
   },
   "outputs": [],
   "source": []
  },
  {
   "cell_type": "code",
   "execution_count": null,
   "metadata": {
    "collapsed": true
   },
   "outputs": [],
   "source": []
  },
  {
   "cell_type": "code",
   "execution_count": null,
   "metadata": {
    "collapsed": true
   },
   "outputs": [],
   "source": []
  },
  {
   "cell_type": "code",
   "execution_count": null,
   "metadata": {
    "collapsed": true
   },
   "outputs": [],
   "source": []
  },
  {
   "cell_type": "code",
   "execution_count": null,
   "metadata": {
    "collapsed": true
   },
   "outputs": [],
   "source": [
    "stkCode = dfStk.groupby(['CD_ATIVO'])['TP_FUNDO'].count()\n",
    "stkCode.head()"
   ]
  },
  {
   "cell_type": "code",
   "execution_count": null,
   "metadata": {
    "collapsed": true
   },
   "outputs": [],
   "source": [
    "stkCode.index"
   ]
  },
  {
   "cell_type": "code",
   "execution_count": null,
   "metadata": {
    "collapsed": true
   },
   "outputs": [],
   "source": []
  },
  {
   "cell_type": "code",
   "execution_count": null,
   "metadata": {
    "collapsed": true
   },
   "outputs": [],
   "source": []
  },
  {
   "cell_type": "code",
   "execution_count": null,
   "metadata": {
    "collapsed": true
   },
   "outputs": [],
   "source": [
    "# DF containg prices with dates in rows and ISIN code in columns\n",
    "dfPrices = unitPrc.unstack(level = 0)"
   ]
  },
  {
   "cell_type": "code",
   "execution_count": null,
   "metadata": {},
   "outputs": [],
   "source": [
    "fig = plt.figure(figsize = (10, 8))\n",
    "ax = fig.add_subplot(111)\n",
    "\n",
    "# Most frequent stocks\n",
    "perc = 0.1\n",
    "stkNames = codeCount.head(int(perc * len(codeCount))).index\n",
    "print(int(perc * len(codeCount)))\n",
    "\n",
    "# Plot price series for each bond \n",
    "for stk in dfPrices[stkNames]:\n",
    "    \n",
    "    plt.plot(dfPrices.index, dfPrices[stk], linewidth = 1.0, alpha = 0.5)\n",
    "\n",
    "ax.set_ylim((0, 250))\n",
    "plt.show()"
   ]
  },
  {
   "cell_type": "markdown",
   "metadata": {},
   "source": [
    " "
   ]
  },
  {
   "cell_type": "markdown",
   "metadata": {},
   "source": [
    " "
   ]
  },
  {
   "cell_type": "markdown",
   "metadata": {},
   "source": [
    "### Combined gov. bonds and money market positions by fund"
   ]
  },
  {
   "cell_type": "code",
   "execution_count": null,
   "metadata": {
    "collapsed": true
   },
   "outputs": [],
   "source": [
    "# Funds Gov.Bonds position by ISIN and date (multi indices series)\n",
    "titpub_by_fund = df_titpub.groupby(['DT_COMPTC', 'CNPJ_FUNDO', 'CD_ISIN'])['VL_MERC_POS_FINAL'].sum()\n",
    "titpub_by_fund.name = 'govBonds'"
   ]
  },
  {
   "cell_type": "code",
   "execution_count": null,
   "metadata": {
    "collapsed": true
   },
   "outputs": [],
   "source": [
    "# Funds Money Market position by ISIN and date (multi indices series)\n",
    "opcompr_by_fund = df_opcompr.groupby(['DT_COMPTC', 'CNPJ_FUNDO', 'CD_ISIN'])['VL_MERC_POS_FINAL'].sum()\n",
    "opcompr_by_fund.name = 'moneyMrkt'"
   ]
  },
  {
   "cell_type": "code",
   "execution_count": null,
   "metadata": {
    "collapsed": true
   },
   "outputs": [],
   "source": [
    "# Gov. Bonds and Money Mrkt position by funds, ISIN and date (data frame)\n",
    "dfPosition = pd.concat([titpub_by_fund, opcompr_by_fund], axis = 1)"
   ]
  },
  {
   "cell_type": "code",
   "execution_count": null,
   "metadata": {
    "collapsed": true
   },
   "outputs": [],
   "source": [
    "# Save data frame\n",
    "dfPosition.to_pickle(strucPath + 'positions_dfs/govBonds_mmrkt.pkl')"
   ]
  },
  {
   "cell_type": "markdown",
   "metadata": {},
   "source": [
    " "
   ]
  },
  {
   "cell_type": "markdown",
   "metadata": {},
   "source": [
    " "
   ]
  },
  {
   "cell_type": "markdown",
   "metadata": {},
   "source": [
    " "
   ]
  },
  {
   "cell_type": "markdown",
   "metadata": {},
   "source": [
    " "
   ]
  },
  {
   "cell_type": "markdown",
   "metadata": {},
   "source": [
    " "
   ]
  },
  {
   "cell_type": "markdown",
   "metadata": {},
   "source": [
    " "
   ]
  },
  {
   "cell_type": "markdown",
   "metadata": {},
   "source": [
    " "
   ]
  },
  {
   "cell_type": "markdown",
   "metadata": {},
   "source": [
    " "
   ]
  }
 ],
 "metadata": {
  "kernelspec": {
   "display_name": "Python 3",
   "language": "python",
   "name": "python3"
  }
 },
 "nbformat": 4,
 "nbformat_minor": 2
}
