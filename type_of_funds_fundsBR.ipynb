{
 "cells": [
  {
   "cell_type": "markdown",
   "metadata": {
    "collapsed": true
   },
   "source": [
    "### Brazilian funds allocation\n",
    "In this notebook we study the size of each type of fund.\n",
    "We conclude that the FI type graetly dominates the funds universe, and that is why we, in the next notebbok, will investigate exclusively the FI funds."
   ]
  },
  {
   "cell_type": "markdown",
   "metadata": {},
   "source": [
    " "
   ]
  },
  {
   "cell_type": "code",
   "execution_count": 1,
   "metadata": {
    "collapsed": true
   },
   "outputs": [],
   "source": [
    "# Input\n",
    "date = '2018_09_21'\n",
    "homePath = 'C:/Users/Mamed/Python4DS/'\n",
    "projPath = homePath + 'FundsBR/'\n",
    "strucPath = projPath + 'Structures_' + date + '/'\n",
    "libsPath = projPath + 'Libs/'"
   ]
  },
  {
   "cell_type": "markdown",
   "metadata": {},
   "source": [
    " "
   ]
  },
  {
   "cell_type": "code",
   "execution_count": 332,
   "metadata": {
    "collapsed": true
   },
   "outputs": [],
   "source": [
    "import pandas as pd\n",
    "import numpy as np\n",
    "from collections import Counter\n",
    "import datetime as dt\n",
    "import matplotlib.pyplot as plt\n",
    "from matplotlib import gridspec"
   ]
  },
  {
   "cell_type": "code",
   "execution_count": 207,
   "metadata": {
    "collapsed": true
   },
   "outputs": [],
   "source": [
    "# Load my libraries\n",
    "exec(open(libsPath + 'fundsLib.py').read())"
   ]
  },
  {
   "cell_type": "markdown",
   "metadata": {},
   "source": [
    " "
   ]
  },
  {
   "cell_type": "code",
   "execution_count": 208,
   "metadata": {},
   "outputs": [
    {
     "data": {
      "text/plain": [
       "(1691022, 5)"
      ]
     },
     "execution_count": 208,
     "metadata": {},
     "output_type": "execute_result"
    }
   ],
   "source": [
    "# Read PL\n",
    "dfPL = pd.read_pickle(strucPath + 'PL_.pkl')\n",
    "dfPL.shape"
   ]
  },
  {
   "cell_type": "code",
   "execution_count": 209,
   "metadata": {
    "scrolled": false
   },
   "outputs": [
    {
     "data": {
      "text/html": [
       "<div>\n",
       "<style>\n",
       "    .dataframe thead tr:only-child th {\n",
       "        text-align: right;\n",
       "    }\n",
       "\n",
       "    .dataframe thead th {\n",
       "        text-align: left;\n",
       "    }\n",
       "\n",
       "    .dataframe tbody tr th {\n",
       "        vertical-align: top;\n",
       "    }\n",
       "</style>\n",
       "<table border=\"1\" class=\"dataframe\">\n",
       "  <thead>\n",
       "    <tr style=\"text-align: right;\">\n",
       "      <th></th>\n",
       "      <th>TP_FUNDO</th>\n",
       "      <th>CNPJ_FUNDO</th>\n",
       "      <th>DENOM_SOCIAL</th>\n",
       "      <th>DT_COMPTC</th>\n",
       "      <th>VL_PATRIM_LIQ</th>\n",
       "    </tr>\n",
       "  </thead>\n",
       "  <tbody>\n",
       "    <tr>\n",
       "      <th>0</th>\n",
       "      <td>FACFIF</td>\n",
       "      <td>00.000.756/0001-30</td>\n",
       "      <td>FAC ITAÚ RENDA FIXA - FUNDO DE INVESTIMENTO EM...</td>\n",
       "      <td>2005-01-31</td>\n",
       "      <td>7027838.60</td>\n",
       "    </tr>\n",
       "    <tr>\n",
       "      <th>1</th>\n",
       "      <td>FACFIF</td>\n",
       "      <td>00.000.756/0001-30</td>\n",
       "      <td>FAC ITAÚ RENDA FIXA - FUNDO DE INVESTIMENTO EM...</td>\n",
       "      <td>2005-02-28</td>\n",
       "      <td>6945342.89</td>\n",
       "    </tr>\n",
       "    <tr>\n",
       "      <th>2</th>\n",
       "      <td>FACFIF</td>\n",
       "      <td>00.000.777/0001-56</td>\n",
       "      <td>SANTANDER FUNDO DE INVESTIMENTO EM COTAS DE FU...</td>\n",
       "      <td>2005-01-31</td>\n",
       "      <td>20656283.24</td>\n",
       "    </tr>\n",
       "    <tr>\n",
       "      <th>3</th>\n",
       "      <td>FACFIF</td>\n",
       "      <td>00.000.777/0001-56</td>\n",
       "      <td>SANTANDER FUNDO DE INVESTIMENTO EM COTAS DE FU...</td>\n",
       "      <td>2005-02-28</td>\n",
       "      <td>20492770.98</td>\n",
       "    </tr>\n",
       "    <tr>\n",
       "      <th>4</th>\n",
       "      <td>FACFIF</td>\n",
       "      <td>00.000.777/0001-56</td>\n",
       "      <td>SANTANDER FUNDO DE INVESTIMENTO EM COTAS DE FU...</td>\n",
       "      <td>2005-03-31</td>\n",
       "      <td>20506270.50</td>\n",
       "    </tr>\n",
       "  </tbody>\n",
       "</table>\n",
       "</div>"
      ],
      "text/plain": [
       "  TP_FUNDO          CNPJ_FUNDO  \\\n",
       "0   FACFIF  00.000.756/0001-30   \n",
       "1   FACFIF  00.000.756/0001-30   \n",
       "2   FACFIF  00.000.777/0001-56   \n",
       "3   FACFIF  00.000.777/0001-56   \n",
       "4   FACFIF  00.000.777/0001-56   \n",
       "\n",
       "                                        DENOM_SOCIAL   DT_COMPTC  \\\n",
       "0  FAC ITAÚ RENDA FIXA - FUNDO DE INVESTIMENTO EM...  2005-01-31   \n",
       "1  FAC ITAÚ RENDA FIXA - FUNDO DE INVESTIMENTO EM...  2005-02-28   \n",
       "2  SANTANDER FUNDO DE INVESTIMENTO EM COTAS DE FU...  2005-01-31   \n",
       "3  SANTANDER FUNDO DE INVESTIMENTO EM COTAS DE FU...  2005-02-28   \n",
       "4  SANTANDER FUNDO DE INVESTIMENTO EM COTAS DE FU...  2005-03-31   \n",
       "\n",
       "   VL_PATRIM_LIQ  \n",
       "0     7027838.60  \n",
       "1     6945342.89  \n",
       "2    20656283.24  \n",
       "3    20492770.98  \n",
       "4    20506270.50  "
      ]
     },
     "execution_count": 209,
     "metadata": {},
     "output_type": "execute_result"
    }
   ],
   "source": [
    "# Sample\n",
    "dfPL.head()"
   ]
  },
  {
   "cell_type": "code",
   "execution_count": 210,
   "metadata": {
    "collapsed": true
   },
   "outputs": [],
   "source": [
    "# Convert date columns from string to timestamp\n",
    "dfPL['DT_COMPTC'] = dfPL['DT_COMPTC'].apply(lambda x: dt.datetime.strptime(x, \"%Y-%m-%d\"))"
   ]
  },
  {
   "cell_type": "markdown",
   "metadata": {},
   "source": [
    "#### Total PL"
   ]
  },
  {
   "cell_type": "code",
   "execution_count": 213,
   "metadata": {},
   "outputs": [
    {
     "data": {
      "image/png": "[encoded data removed]",
      "text/plain": [
       "<matplotlib.figure.Figure at 0x1c840c53588>"
      ]
     },
     "metadata": {},
     "output_type": "display_data"
    }
   ],
   "source": [
    "# Total PL: group by date, sum and transfor units to trillions\n",
    "dfSum = dfPL.groupby(['DT_COMPTC'])['VL_PATRIM_LIQ'].sum() / 10**12\n",
    "\n",
    "fig = plt.figure(figsize = (8, 3))\n",
    "plt.plot(dfSum, 'k', linewidth = 0.75)\n",
    "plt.show()"
   ]
  },
  {
   "cell_type": "markdown",
   "metadata": {},
   "source": [
    "#### We can see three some errors in data, lets locate it and substitute by time neighbors interpolation"
   ]
  },
  {
   "cell_type": "code",
   "execution_count": 214,
   "metadata": {
    "scrolled": false
   },
   "outputs": [
    {
     "name": "stdout",
     "output_type": "stream",
     "text": [
      "Outlier:            \n",
      "10.786.628/0001-18  \n",
      "MARBELLA II - FUNDO DE INVESTIMENTO  RENDA FIXA\n",
      "2017-03-31\n",
      "54,644,230,171,628.50\n",
      "\n",
      "Neighbors values:    3,202,105,735.78     3,189,279,604.93    \n",
      "Updated to:          3,195,692,670.36    \n"
     ]
    }
   ],
   "source": [
    "# We have to run 'interpOut' three times\n",
    "dfPL = interpOutlier(dfPL)"
   ]
  },
  {
   "cell_type": "code",
   "execution_count": 215,
   "metadata": {
    "scrolled": false
   },
   "outputs": [
    {
     "name": "stdout",
     "output_type": "stream",
     "text": [
      "Outlier:            \n",
      "12.553.578/0001-54  \n",
      "PLATINUM CAPITAL ABSOLUTO FUNDO DE INVESTIMENTO DE AÇÕES\n",
      "2013-06-30\n",
      "13,416,248,833,167.33\n",
      "\n",
      "Neighbors values:    4,284,517.09         3,992,288.52        \n",
      "Updated to:          4,138,402.80        \n"
     ]
    }
   ],
   "source": [
    "dfPL = interpOutlier(dfPL)"
   ]
  },
  {
   "cell_type": "code",
   "execution_count": 216,
   "metadata": {
    "scrolled": false
   },
   "outputs": [
    {
     "name": "stdout",
     "output_type": "stream",
     "text": [
      "Outlier:            \n",
      "07.901.425/0001-10  \n",
      "INFINITY EAGLE FUNDO DE INVESTIMENTO MULTIMERCADO\n",
      "2015-04-30\n",
      "5,364,276,861,426.34\n",
      "\n",
      "Neighbors values:    2,597,203.18         2,542,392.50        \n",
      "Updated to:          2,569,797.84        \n"
     ]
    }
   ],
   "source": [
    "dfPL = interpOutlier(dfPL)"
   ]
  },
  {
   "cell_type": "code",
   "execution_count": 217,
   "metadata": {
    "scrolled": true
   },
   "outputs": [
    {
     "data": {
      "image/png": "[encoded data removed]",
      "text/plain": [
       "<matplotlib.figure.Figure at 0x1c840c165f8>"
      ]
     },
     "metadata": {},
     "output_type": "display_data"
    }
   ],
   "source": [
    "# Total PL: group by date, sum and transfor units to trillions\n",
    "dfSum = dfPL.groupby(['DT_COMPTC'])['VL_PATRIM_LIQ'].sum() / 10**12\n",
    "\n",
    "fig = plt.figure(figsize = (8, 3))\n",
    "plt.plot(dfSum, 'k', linewidth = 0.75)\n",
    "plt.show()"
   ]
  },
  {
   "cell_type": "markdown",
   "metadata": {},
   "source": [
    "#### Cheking PL evolution by fund type"
   ]
  },
  {
   "cell_type": "code",
   "execution_count": 236,
   "metadata": {},
   "outputs": [
    {
     "name": "stdout",
     "output_type": "stream",
     "text": [
      "['FACFIF', 'FAPI', 'FI', 'FIC-FITVM', 'FIEX', 'FIF', 'FIFDIV', 'FIIM', 'FIP', 'FITVM', 'FMAI', 'FMIEE', 'FMP-FGTS', 'FMP-FGTS CL', 'FUNCINE', 'FI-FGTS']\n"
     ]
    }
   ],
   "source": [
    "# Fund types\n",
    "field = 'TP_FUNDO'\n",
    "aux = list(map(list, zip(*list(Counter(dfPL[field]).items()))))\n",
    "fundTypes = aux[0]\n",
    "print(fundTypes)"
   ]
  },
  {
   "cell_type": "code",
   "execution_count": 247,
   "metadata": {
    "scrolled": true
   },
   "outputs": [
    {
     "data": {
      "text/html": [
       "<div>\n",
       "<style>\n",
       "    .dataframe thead tr:only-child th {\n",
       "        text-align: right;\n",
       "    }\n",
       "\n",
       "    .dataframe thead th {\n",
       "        text-align: left;\n",
       "    }\n",
       "\n",
       "    .dataframe tbody tr th {\n",
       "        vertical-align: top;\n",
       "    }\n",
       "</style>\n",
       "<table border=\"1\" class=\"dataframe\">\n",
       "  <thead>\n",
       "    <tr style=\"text-align: right;\">\n",
       "      <th>TP_FUNDO</th>\n",
       "      <th>FACFIF</th>\n",
       "      <th>FAPI</th>\n",
       "      <th>FI</th>\n",
       "      <th>FI-FGTS</th>\n",
       "      <th>FIC-FITVM</th>\n",
       "      <th>FIEX</th>\n",
       "      <th>FIF</th>\n",
       "      <th>FIFDIV</th>\n",
       "      <th>FIIM</th>\n",
       "      <th>FIP</th>\n",
       "      <th>FITVM</th>\n",
       "      <th>FMAI</th>\n",
       "      <th>FMIEE</th>\n",
       "      <th>FMP-FGTS</th>\n",
       "      <th>FMP-FGTS CL</th>\n",
       "      <th>FUNCINE</th>\n",
       "    </tr>\n",
       "    <tr>\n",
       "      <th>DT_COMPTC</th>\n",
       "      <th></th>\n",
       "      <th></th>\n",
       "      <th></th>\n",
       "      <th></th>\n",
       "      <th></th>\n",
       "      <th></th>\n",
       "      <th></th>\n",
       "      <th></th>\n",
       "      <th></th>\n",
       "      <th></th>\n",
       "      <th></th>\n",
       "      <th></th>\n",
       "      <th></th>\n",
       "      <th></th>\n",
       "      <th></th>\n",
       "      <th></th>\n",
       "    </tr>\n",
       "  </thead>\n",
       "  <tbody>\n",
       "    <tr>\n",
       "      <th>2005-01-31</th>\n",
       "      <td>0.296490</td>\n",
       "      <td>NaN</td>\n",
       "      <td>0.109737</td>\n",
       "      <td>NaN</td>\n",
       "      <td>0.002821</td>\n",
       "      <td>0.002201</td>\n",
       "      <td>0.518977</td>\n",
       "      <td>0.007230</td>\n",
       "      <td>0.000390</td>\n",
       "      <td>NaN</td>\n",
       "      <td>0.036293</td>\n",
       "      <td>0.000007</td>\n",
       "      <td>NaN</td>\n",
       "      <td>0.006915</td>\n",
       "      <td>0.000011</td>\n",
       "      <td>NaN</td>\n",
       "    </tr>\n",
       "    <tr>\n",
       "      <th>2005-02-28</th>\n",
       "      <td>0.264067</td>\n",
       "      <td>NaN</td>\n",
       "      <td>0.250221</td>\n",
       "      <td>NaN</td>\n",
       "      <td>0.002961</td>\n",
       "      <td>0.001882</td>\n",
       "      <td>0.427480</td>\n",
       "      <td>0.007256</td>\n",
       "      <td>0.000435</td>\n",
       "      <td>NaN</td>\n",
       "      <td>0.035352</td>\n",
       "      <td>0.000008</td>\n",
       "      <td>NaN</td>\n",
       "      <td>0.008023</td>\n",
       "      <td>0.000012</td>\n",
       "      <td>NaN</td>\n",
       "    </tr>\n",
       "    <tr>\n",
       "      <th>2005-03-31</th>\n",
       "      <td>0.040634</td>\n",
       "      <td>NaN</td>\n",
       "      <td>0.858053</td>\n",
       "      <td>NaN</td>\n",
       "      <td>0.000369</td>\n",
       "      <td>0.000063</td>\n",
       "      <td>0.104806</td>\n",
       "      <td>0.007803</td>\n",
       "      <td>0.000380</td>\n",
       "      <td>NaN</td>\n",
       "      <td>0.006247</td>\n",
       "      <td>0.000007</td>\n",
       "      <td>NaN</td>\n",
       "      <td>0.007340</td>\n",
       "      <td>0.000012</td>\n",
       "      <td>0.000004</td>\n",
       "    </tr>\n",
       "    <tr>\n",
       "      <th>2005-04-30</th>\n",
       "      <td>0.000244</td>\n",
       "      <td>NaN</td>\n",
       "      <td>1.020416</td>\n",
       "      <td>NaN</td>\n",
       "      <td>0.000004</td>\n",
       "      <td>0.000000</td>\n",
       "      <td>0.002453</td>\n",
       "      <td>0.000060</td>\n",
       "      <td>0.000342</td>\n",
       "      <td>NaN</td>\n",
       "      <td>0.000013</td>\n",
       "      <td>0.000008</td>\n",
       "      <td>NaN</td>\n",
       "      <td>0.006373</td>\n",
       "      <td>0.000011</td>\n",
       "      <td>NaN</td>\n",
       "    </tr>\n",
       "    <tr>\n",
       "      <th>2005-05-31</th>\n",
       "      <td>0.000220</td>\n",
       "      <td>NaN</td>\n",
       "      <td>1.026809</td>\n",
       "      <td>NaN</td>\n",
       "      <td>0.000004</td>\n",
       "      <td>0.000000</td>\n",
       "      <td>0.002556</td>\n",
       "      <td>0.000048</td>\n",
       "      <td>0.000341</td>\n",
       "      <td>NaN</td>\n",
       "      <td>0.000013</td>\n",
       "      <td>0.000008</td>\n",
       "      <td>NaN</td>\n",
       "      <td>0.006611</td>\n",
       "      <td>0.000011</td>\n",
       "      <td>NaN</td>\n",
       "    </tr>\n",
       "  </tbody>\n",
       "</table>\n",
       "</div>"
      ],
      "text/plain": [
       "TP_FUNDO      FACFIF  FAPI        FI  FI-FGTS  FIC-FITVM      FIEX       FIF  \\\n",
       "DT_COMPTC                                                                      \n",
       "2005-01-31  0.296490   NaN  0.109737      NaN   0.002821  0.002201  0.518977   \n",
       "2005-02-28  0.264067   NaN  0.250221      NaN   0.002961  0.001882  0.427480   \n",
       "2005-03-31  0.040634   NaN  0.858053      NaN   0.000369  0.000063  0.104806   \n",
       "2005-04-30  0.000244   NaN  1.020416      NaN   0.000004  0.000000  0.002453   \n",
       "2005-05-31  0.000220   NaN  1.026809      NaN   0.000004  0.000000  0.002556   \n",
       "\n",
       "TP_FUNDO      FIFDIV      FIIM  FIP     FITVM      FMAI  FMIEE  FMP-FGTS  \\\n",
       "DT_COMPTC                                                                  \n",
       "2005-01-31  0.007230  0.000390  NaN  0.036293  0.000007    NaN  0.006915   \n",
       "2005-02-28  0.007256  0.000435  NaN  0.035352  0.000008    NaN  0.008023   \n",
       "2005-03-31  0.007803  0.000380  NaN  0.006247  0.000007    NaN  0.007340   \n",
       "2005-04-30  0.000060  0.000342  NaN  0.000013  0.000008    NaN  0.006373   \n",
       "2005-05-31  0.000048  0.000341  NaN  0.000013  0.000008    NaN  0.006611   \n",
       "\n",
       "TP_FUNDO    FMP-FGTS CL   FUNCINE  \n",
       "DT_COMPTC                          \n",
       "2005-01-31     0.000011       NaN  \n",
       "2005-02-28     0.000012       NaN  \n",
       "2005-03-31     0.000012  0.000004  \n",
       "2005-04-30     0.000011       NaN  \n",
       "2005-05-31     0.000011       NaN  "
      ]
     },
     "execution_count": 247,
     "metadata": {},
     "output_type": "execute_result"
    }
   ],
   "source": [
    "# Group by fund type and date, adding the PL in trillions\n",
    "dfTypeSum = dfPL.groupby(['TP_FUNDO', 'DT_COMPTC'])['VL_PATRIM_LIQ'].sum() \\\n",
    "    / 10**12\n",
    "dfTypeSum = dfTypeSum.unstack(level = 0)\n",
    "dfTypeSum.head()"
   ]
  },
  {
   "cell_type": "code",
   "execution_count": 269,
   "metadata": {},
   "outputs": [
    {
     "data": {
      "image/png": "[encoded data removed]",
      "text/plain": [
       "<matplotlib.figure.Figure at 0x1c840bd9550>"
      ]
     },
     "metadata": {},
     "output_type": "display_data"
    }
   ],
   "source": [
    "fig = plt.figure(figsize = (7, 4))\n",
    "ax = fig.add_subplot(1,1,1)\n",
    "\n",
    "# Plot each type\n",
    "for ft in fundTypes:\n",
    "    #if ft not in ['FI', 'FI-FGTS', 'FIF', 'FACFIF', 'FIP', 'FITVM', 'FMP-FGTS']:\n",
    "    plt.plot(dfTypeSum.index, dfTypeSum[ft].values, linewidth = 1.75, label = ft)\n",
    "\n",
    "ax.legend(bbox_to_anchor=(1.05, 1), loc=2, borderaxespad=0.)\n",
    "plt.show()"
   ]
  },
  {
   "cell_type": "markdown",
   "metadata": {},
   "source": [
    "#### In percentage"
   ]
  },
  {
   "cell_type": "code",
   "execution_count": 265,
   "metadata": {},
   "outputs": [
    {
     "data": {
      "text/html": [
       "<div>\n",
       "<style>\n",
       "    .dataframe thead tr:only-child th {\n",
       "        text-align: right;\n",
       "    }\n",
       "\n",
       "    .dataframe thead th {\n",
       "        text-align: left;\n",
       "    }\n",
       "\n",
       "    .dataframe tbody tr th {\n",
       "        vertical-align: top;\n",
       "    }\n",
       "</style>\n",
       "<table border=\"1\" class=\"dataframe\">\n",
       "  <thead>\n",
       "    <tr style=\"text-align: right;\">\n",
       "      <th>TP_FUNDO</th>\n",
       "      <th>FACFIF</th>\n",
       "      <th>FAPI</th>\n",
       "      <th>FI</th>\n",
       "      <th>FI-FGTS</th>\n",
       "      <th>FIC-FITVM</th>\n",
       "      <th>FIEX</th>\n",
       "      <th>FIF</th>\n",
       "      <th>FIFDIV</th>\n",
       "      <th>FIIM</th>\n",
       "      <th>FIP</th>\n",
       "      <th>FITVM</th>\n",
       "      <th>FMAI</th>\n",
       "      <th>FMIEE</th>\n",
       "      <th>FMP-FGTS</th>\n",
       "      <th>FMP-FGTS CL</th>\n",
       "      <th>FUNCINE</th>\n",
       "      <th>total</th>\n",
       "    </tr>\n",
       "    <tr>\n",
       "      <th>DT_COMPTC</th>\n",
       "      <th></th>\n",
       "      <th></th>\n",
       "      <th></th>\n",
       "      <th></th>\n",
       "      <th></th>\n",
       "      <th></th>\n",
       "      <th></th>\n",
       "      <th></th>\n",
       "      <th></th>\n",
       "      <th></th>\n",
       "      <th></th>\n",
       "      <th></th>\n",
       "      <th></th>\n",
       "      <th></th>\n",
       "      <th></th>\n",
       "      <th></th>\n",
       "      <th></th>\n",
       "    </tr>\n",
       "  </thead>\n",
       "  <tbody>\n",
       "    <tr>\n",
       "      <th>2005-01-31</th>\n",
       "      <td>0.151105</td>\n",
       "      <td>NaN</td>\n",
       "      <td>0.055927</td>\n",
       "      <td>NaN</td>\n",
       "      <td>0.001438</td>\n",
       "      <td>0.001122</td>\n",
       "      <td>0.264495</td>\n",
       "      <td>0.003684</td>\n",
       "      <td>0.000199</td>\n",
       "      <td>NaN</td>\n",
       "      <td>0.018497</td>\n",
       "      <td>0.000004</td>\n",
       "      <td>NaN</td>\n",
       "      <td>0.003524</td>\n",
       "      <td>0.000006</td>\n",
       "      <td>NaN</td>\n",
       "      <td>1.0</td>\n",
       "    </tr>\n",
       "    <tr>\n",
       "      <th>2005-02-28</th>\n",
       "      <td>0.132338</td>\n",
       "      <td>NaN</td>\n",
       "      <td>0.125400</td>\n",
       "      <td>NaN</td>\n",
       "      <td>0.001484</td>\n",
       "      <td>0.000943</td>\n",
       "      <td>0.214234</td>\n",
       "      <td>0.003637</td>\n",
       "      <td>0.000218</td>\n",
       "      <td>NaN</td>\n",
       "      <td>0.017717</td>\n",
       "      <td>0.000004</td>\n",
       "      <td>NaN</td>\n",
       "      <td>0.004021</td>\n",
       "      <td>0.000006</td>\n",
       "      <td>NaN</td>\n",
       "      <td>1.0</td>\n",
       "    </tr>\n",
       "    <tr>\n",
       "      <th>2005-03-31</th>\n",
       "      <td>0.019807</td>\n",
       "      <td>NaN</td>\n",
       "      <td>0.418269</td>\n",
       "      <td>NaN</td>\n",
       "      <td>0.000180</td>\n",
       "      <td>0.000031</td>\n",
       "      <td>0.051089</td>\n",
       "      <td>0.003804</td>\n",
       "      <td>0.000185</td>\n",
       "      <td>NaN</td>\n",
       "      <td>0.003045</td>\n",
       "      <td>0.000004</td>\n",
       "      <td>NaN</td>\n",
       "      <td>0.003578</td>\n",
       "      <td>0.000006</td>\n",
       "      <td>0.000002</td>\n",
       "      <td>1.0</td>\n",
       "    </tr>\n",
       "    <tr>\n",
       "      <th>2005-04-30</th>\n",
       "      <td>0.000118</td>\n",
       "      <td>NaN</td>\n",
       "      <td>0.495384</td>\n",
       "      <td>NaN</td>\n",
       "      <td>0.000002</td>\n",
       "      <td>0.000000</td>\n",
       "      <td>0.001191</td>\n",
       "      <td>0.000029</td>\n",
       "      <td>0.000166</td>\n",
       "      <td>NaN</td>\n",
       "      <td>0.000006</td>\n",
       "      <td>0.000004</td>\n",
       "      <td>NaN</td>\n",
       "      <td>0.003094</td>\n",
       "      <td>0.000005</td>\n",
       "      <td>NaN</td>\n",
       "      <td>1.0</td>\n",
       "    </tr>\n",
       "    <tr>\n",
       "      <th>2005-05-31</th>\n",
       "      <td>0.000106</td>\n",
       "      <td>NaN</td>\n",
       "      <td>0.495267</td>\n",
       "      <td>NaN</td>\n",
       "      <td>0.000002</td>\n",
       "      <td>0.000000</td>\n",
       "      <td>0.001233</td>\n",
       "      <td>0.000023</td>\n",
       "      <td>0.000164</td>\n",
       "      <td>NaN</td>\n",
       "      <td>0.000006</td>\n",
       "      <td>0.000004</td>\n",
       "      <td>NaN</td>\n",
       "      <td>0.003189</td>\n",
       "      <td>0.000005</td>\n",
       "      <td>NaN</td>\n",
       "      <td>1.0</td>\n",
       "    </tr>\n",
       "  </tbody>\n",
       "</table>\n",
       "</div>"
      ],
      "text/plain": [
       "TP_FUNDO      FACFIF  FAPI        FI  FI-FGTS  FIC-FITVM      FIEX       FIF  \\\n",
       "DT_COMPTC                                                                      \n",
       "2005-01-31  0.151105   NaN  0.055927      NaN   0.001438  0.001122  0.264495   \n",
       "2005-02-28  0.132338   NaN  0.125400      NaN   0.001484  0.000943  0.214234   \n",
       "2005-03-31  0.019807   NaN  0.418269      NaN   0.000180  0.000031  0.051089   \n",
       "2005-04-30  0.000118   NaN  0.495384      NaN   0.000002  0.000000  0.001191   \n",
       "2005-05-31  0.000106   NaN  0.495267      NaN   0.000002  0.000000  0.001233   \n",
       "\n",
       "TP_FUNDO      FIFDIV      FIIM  FIP     FITVM      FMAI  FMIEE  FMP-FGTS  \\\n",
       "DT_COMPTC                                                                  \n",
       "2005-01-31  0.003684  0.000199  NaN  0.018497  0.000004    NaN  0.003524   \n",
       "2005-02-28  0.003637  0.000218  NaN  0.017717  0.000004    NaN  0.004021   \n",
       "2005-03-31  0.003804  0.000185  NaN  0.003045  0.000004    NaN  0.003578   \n",
       "2005-04-30  0.000029  0.000166  NaN  0.000006  0.000004    NaN  0.003094   \n",
       "2005-05-31  0.000023  0.000164  NaN  0.000006  0.000004    NaN  0.003189   \n",
       "\n",
       "TP_FUNDO    FMP-FGTS CL   FUNCINE  total  \n",
       "DT_COMPTC                                 \n",
       "2005-01-31     0.000006       NaN    1.0  \n",
       "2005-02-28     0.000006       NaN    1.0  \n",
       "2005-03-31     0.000006  0.000002    1.0  \n",
       "2005-04-30     0.000005       NaN    1.0  \n",
       "2005-05-31     0.000005       NaN    1.0  "
      ]
     },
     "execution_count": 265,
     "metadata": {},
     "output_type": "execute_result"
    }
   ],
   "source": [
    "dfTypeSum['total'] = dfTypeSum[list(dfTypeSum)].sum(axis=1)\n",
    "dfTypeSumPerc = dfTypeSum.div(dfTypeSum.total, axis='index')\n",
    "dfTypeSumPerc.head()"
   ]
  },
  {
   "cell_type": "code",
   "execution_count": 270,
   "metadata": {
    "scrolled": true
   },
   "outputs": [
    {
     "data": {
      "image/png": "[encoded data removed]",
      "text/plain": [
       "<matplotlib.figure.Figure at 0x1c83ac42c88>"
      ]
     },
     "metadata": {},
     "output_type": "display_data"
    }
   ],
   "source": [
    "fig = plt.figure(figsize = (7, 4))\n",
    "ax = fig.add_subplot(1,1,1)\n",
    "\n",
    "# Plot each type\n",
    "for ft in fundTypes:\n",
    "    plt.plot(dfTypeSum.index, percent[ft].values, linewidth = 1.75, label = ft)\n",
    "\n",
    "ax.legend(bbox_to_anchor=(1.05, 1), loc=2, borderaxespad=0.)\n",
    "plt.show()"
   ]
  },
  {
   "cell_type": "markdown",
   "metadata": {},
   "source": [
    "#### Only the FI type"
   ]
  },
  {
   "cell_type": "code",
   "execution_count": 320,
   "metadata": {
    "collapsed": true
   },
   "outputs": [],
   "source": [
    "dfFI = dfPL[dfPL['TP_FUNDO'] == 'FI']\n",
    "dfFI = dfFI.reset_index(drop = True)"
   ]
  },
  {
   "cell_type": "code",
   "execution_count": 347,
   "metadata": {
    "collapsed": true
   },
   "outputs": [],
   "source": [
    "# Group by date, adding and counting the PL in trillions\n",
    "dfFIsum = dfFI.groupby(['DT_COMPTC'])['VL_PATRIM_LIQ'].sum() / 10**12\n",
    "dfFIcount = dfFI.groupby(['DT_COMPTC'])['VL_PATRIM_LIQ'].count()\n",
    "dfFImeanPL = (dfFIsum / dfFIcount) * 10**6"
   ]
  },
  {
   "cell_type": "code",
   "execution_count": 349,
   "metadata": {},
   "outputs": [
    {
     "data": {
      "image/png": "[encoded data removed]",
      "text/plain": [
       "<matplotlib.figure.Figure at 0x1c8d38bf6d8>"
      ]
     },
     "metadata": {},
     "output_type": "display_data"
    }
   ],
   "source": [
    "fig = plt.figure(figsize = (7, 6))\n",
    "gs = gridspec.GridSpec(ncols = 1, nrows = 3, hspace = 0.05)\n",
    "\n",
    "ax = fig.add_subplot(gs[0, 0])\n",
    "plt.plot(dfFIsum.index, dfFIsum, linewidth = 1.75)\n",
    "ax.get_xaxis().set_ticks([])\n",
    "plt.ylabel('Total PL, trillions')\n",
    "\n",
    "ax = fig.add_subplot(gs[1, 0])\n",
    "plt.plot(dfFIcount.index, dfFIcount, linewidth = 1.75)\n",
    "ax.get_xaxis().set_ticks([])\n",
    "plt.ylabel('Number of funds')\n",
    "\n",
    "ax = fig.add_subplot(gs[2, 0])\n",
    "plt.plot(dfFImeanPL.index, dfFImeanPL, linewidth = 1.75)\n",
    "plt.ylabel('Mean PL, millions')\n",
    "\n",
    "plt.show()"
   ]
  }
 ],
 "metadata": {
  "kernelspec": {
   "display_name": "Python 3",
   "language": "python",
   "name": "python3"
  },
  "language_info": {
   "codemirror_mode": {
    "name": "ipython",
    "version": 3
   },
   "file_extension": ".py",
   "mimetype": "text/x-python",
   "name": "python",
   "nbconvert_exporter": "python",
   "pygments_lexer": "ipython3",
   "version": "3.6.3"
  }
 },
 "nbformat": 4,
 "nbformat_minor": 2
}
